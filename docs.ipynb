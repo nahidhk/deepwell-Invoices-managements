{
 "cells": [
  {
   "cell_type": "markdown",
   "metadata": {},
   "source": [
    "# Company Data store \n",
    "---\n",
    "Go to open your invoice setting > print areai > pintcommpany > edit > OK \n",
    "edit exampule \n",
    "\n",
    "```json\n",
    "{\n",
    "    \"name\":\"this is commapany name\"\n",
    "}\n",
    "```"
   ]
  },
  {
   "cell_type": "code",
   "execution_count": null,
   "metadata": {
    "vscode": {
     "languageId": "dart"
    }
   },
   "outputs": [],
   "source": [
    "# Company data store\n"
   ]
  }
 ],
 "metadata": {
  "language_info": {
   "name": "python"
  }
 },
 "nbformat": 4,
 "nbformat_minor": 2
}
